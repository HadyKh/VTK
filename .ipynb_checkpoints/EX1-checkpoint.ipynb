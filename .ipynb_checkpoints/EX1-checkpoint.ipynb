{
 "cells": [
  {
   "cell_type": "markdown",
   "id": "dbbfbb22",
   "metadata": {},
   "source": [
    "# VTK\n",
    "\n",
    "VTK has two models: \n",
    "\n",
    "visualization model &emsp; &&& &emsp; Graphics model\n",
    "\n",
    "Source &#8594; Filter &#8594; Mapper &#8594; Actor &#8594; Renderer"
   ]
  },
  {
   "cell_type": "code",
   "execution_count": null,
   "id": "fc0c7654",
   "metadata": {},
   "outputs": [],
   "source": [
    "import vtk"
   ]
  },
  {
   "cell_type": "code",
   "execution_count": null,
   "id": "3d8b0f84",
   "metadata": {},
   "outputs": [],
   "source": [
    "# create a data source\n",
    "cube = vtk.vtkCubeSource()"
   ]
  },
  {
   "cell_type": "code",
   "execution_count": null,
   "id": "31336cf1",
   "metadata": {},
   "outputs": [],
   "source": [
    "# mapper\n",
    "cubeMapper = vtk.vtkPolyDataMapper()\n",
    "cubeMapper.SetInputConnection(cube.GetOutputPort())"
   ]
  },
  {
   "cell_type": "code",
   "execution_count": null,
   "id": "bd6fc3a9",
   "metadata": {},
   "outputs": [],
   "source": [
    "# actor\n",
    "cubeActor = vtk.vtkActor()\n",
    "cubeActor.SetMapper(cubeMapper)\n",
    "cubeActor.GetProperty().SetColor(1, 0, 0)"
   ]
  },
  {
   "cell_type": "code",
   "execution_count": null,
   "id": "7eceb656",
   "metadata": {},
   "outputs": [],
   "source": [
    "# create a rendering window and renderer\n",
    "renderer = vtk.vtkRenderer()\n",
    "renderer.SetBackground(0.5, 0.5, 0.5)\n",
    "renderer.AddActor(cubeActor)\n",
    "\n",
    "renderWindow = vtk.vtkRenderWindow()\n",
    "renderWindow.SetSize(500, 500)\n",
    "renderWindow.AddRenderer(renderer)\n",
    "renderWindow.Render()"
   ]
  },
  {
   "cell_type": "code",
   "execution_count": null,
   "id": "d6f900ce",
   "metadata": {},
   "outputs": [],
   "source": [
    "# create and enable a renderWindowInteractor\n",
    "iren = vtk.vtkRenderWindowInteractor()\n",
    "iren.SetRenderWindow(renderWindow)\n",
    "iren.Start()"
   ]
  },
  {
   "cell_type": "code",
   "execution_count": null,
   "id": "be5cf2e9",
   "metadata": {},
   "outputs": [],
   "source": []
  }
 ],
 "metadata": {
  "kernelspec": {
   "display_name": "Python 3 (ipykernel)",
   "language": "python",
   "name": "python3"
  },
  "language_info": {
   "codemirror_mode": {
    "name": "ipython",
    "version": 3
   },
   "file_extension": ".py",
   "mimetype": "text/x-python",
   "name": "python",
   "nbconvert_exporter": "python",
   "pygments_lexer": "ipython3",
   "version": "3.9.13"
  }
 },
 "nbformat": 4,
 "nbformat_minor": 5
}
