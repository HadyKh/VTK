{
 "cells": [
  {
   "cell_type": "markdown",
   "id": "d298fbeb",
   "metadata": {},
   "source": [
    "# VTK\n",
    "\n",
    "VTK has two models: \n",
    "\n",
    "visualization model &emsp; &&& &emsp; Graphics model\n",
    "\n",
    "Source &#8594; Filter &#8594; Mapper &#8594; Actor &#8594; Renderer"
   ]
  },
  {
   "cell_type": "code",
   "execution_count": null,
   "id": "ff14d46a",
   "metadata": {},
   "outputs": [],
   "source": [
    "# pip install vtk\n",
    "\n",
    "import vtkmodules.vtkRenderingOpenGL2\n",
    "from vtkmodules.vtkCommonColor import vtkNamedColors\n",
    "from vtkmodules.vtkFiltersSources import vtkCylinderSource\n",
    "from vtkmodules.vtkRenderingCore import (vtkActor, vtkPolyDataMapper, vtkRenderWindow, vtkRenderWindowInteractor, vtkRenderer)"
   ]
  },
  {
   "cell_type": "code",
   "execution_count": null,
   "id": "1875cc48",
   "metadata": {},
   "outputs": [],
   "source": [
    "colors = vtkNamedColors()\n",
    "# Set the background color.\n",
    "bkg = map(lambda x: x / 255.0, [26, 51, 102, 255])\n",
    "colors.SetColor(\"BkgColor\", *bkg)"
   ]
  },
  {
   "cell_type": "markdown",
   "id": "9ecc515c",
   "metadata": {},
   "source": [
    "# Source"
   ]
  },
  {
   "cell_type": "code",
   "execution_count": null,
   "id": "5443156a",
   "metadata": {},
   "outputs": [],
   "source": [
    "# This creates a polygonal cylinder model with eight circumferential\n",
    "# facets.\n",
    "cylinder = vtkCylinderSource()\n",
    "\n",
    "cylinder.SetResolution(8)"
   ]
  },
  {
   "cell_type": "markdown",
   "id": "988fd48f",
   "metadata": {},
   "source": [
    "# Mapper"
   ]
  },
  {
   "cell_type": "code",
   "execution_count": null,
   "id": "953ebe15",
   "metadata": {},
   "outputs": [],
   "source": [
    "# The mapper is responsible for pushing the geometry into the graphics\n",
    "# library. It may also do color mapping, if scalars or other\n",
    "# attributes are defined.\n",
    "cylinderMapper = vtkPolyDataMapper()\n",
    "\n",
    "cylinderMapper.SetInputConnection(cylinder.GetOutputPort())"
   ]
  },
  {
   "cell_type": "markdown",
   "id": "d39d245a",
   "metadata": {},
   "source": [
    "# Actor"
   ]
  },
  {
   "cell_type": "code",
   "execution_count": null,
   "id": "7cb75f53",
   "metadata": {},
   "outputs": [],
   "source": [
    "# The actor is a grouping mechanism: besides the geometry (mapper), it\n",
    "# also has a property, transformation matrix, and/or texture map.\n",
    "# Here we set its color and rotate it -22.5 degrees.\n",
    "cylinderActor = vtkActor()\n",
    "\n",
    "cylinderActor.SetMapper(cylinderMapper)\n",
    "cylinderActor.GetProperty().SetColor(colors.GetColor3d(\"Tomato\"))\n",
    "cylinderActor.RotateX(30.0)\n",
    "cylinderActor.RotateY(-45.0)"
   ]
  },
  {
   "cell_type": "markdown",
   "id": "f58b3337",
   "metadata": {},
   "source": [
    "# Renderer"
   ]
  },
  {
   "cell_type": "code",
   "execution_count": null,
   "id": "8a0a5b16",
   "metadata": {},
   "outputs": [],
   "source": [
    "# Create the graphics structure. The renderer renders into the render\n",
    "# window. The render window interactor captures mouse events and will\n",
    "# perform appropriate camera or actor manipulation depending on the\n",
    "# nature of the events.\n",
    "ren = vtkRenderer()\n",
    "\n",
    "renWin = vtkRenderWindow()\n",
    "\n",
    "renWin.AddRenderer(ren)\n",
    "iren = vtkRenderWindowInteractor()\n",
    "iren.SetRenderWindow(renWin)"
   ]
  },
  {
   "cell_type": "code",
   "execution_count": null,
   "id": "d89f4fbf",
   "metadata": {},
   "outputs": [],
   "source": [
    "# Add the actors to the renderer, set the background and size\n",
    "ren.AddActor(cylinderActor)\n",
    "ren.SetBackground(colors.GetColor3d(\"BkgColor\"))\n",
    "renWin.SetSize(300, 300)\n",
    "renWin.SetWindowName('CylinderExample')"
   ]
  },
  {
   "cell_type": "code",
   "execution_count": null,
   "id": "e6a77db1",
   "metadata": {},
   "outputs": [],
   "source": [
    "# This allows the interactor to initalize itself. It has to be\n",
    "# called before an event loop.\n",
    "iren.Initialize()\n",
    "\n",
    "# We'll zoom in a little by accessing the camera and invoking a \"Zoom\"\n",
    "# method on it.\n",
    "\n",
    "ren.ResetCamera()\n",
    "ren.GetActiveCamera().Zoom(1.5)\n",
    "renWin.Render()"
   ]
  },
  {
   "cell_type": "code",
   "execution_count": null,
   "id": "89019a4e",
   "metadata": {},
   "outputs": [],
   "source": [
    "# Start the event loop.\n",
    "iren.Start()"
   ]
  },
  {
   "cell_type": "code",
   "execution_count": null,
   "id": "a9595996",
   "metadata": {},
   "outputs": [],
   "source": []
  }
 ],
 "metadata": {
  "kernelspec": {
   "display_name": "Python 3 (ipykernel)",
   "language": "python",
   "name": "python3"
  },
  "language_info": {
   "codemirror_mode": {
    "name": "ipython",
    "version": 3
   },
   "file_extension": ".py",
   "mimetype": "text/x-python",
   "name": "python",
   "nbconvert_exporter": "python",
   "pygments_lexer": "ipython3",
   "version": "3.9.13"
  }
 },
 "nbformat": 4,
 "nbformat_minor": 5
}
