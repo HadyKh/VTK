{
 "cells": [
  {
   "cell_type": "code",
   "execution_count": 11,
   "id": "86335884",
   "metadata": {},
   "outputs": [],
   "source": [
    "import vtk\n",
    "from IPython.display import Image\n",
    "def vtk_show(renderer, width=400, height=300):\n",
    "    \"\"\"\n",
    "    Takes vtkRenderer instance and returns an IPython Image with the rendering.\n",
    "    \"\"\"\n",
    "    renderWindow = vtk.vtkRenderWindow()\n",
    "    renderWindow.SetOffScreenRendering(1)\n",
    "    renderWindow.AddRenderer(renderer)\n",
    "    renderWindow.SetSize(width, height)\n",
    "    renderWindow.Render()\n",
    "     \n",
    "    windowToImageFilter = vtk.vtkWindowToImageFilter()\n",
    "    windowToImageFilter.SetInput(renderWindow)\n",
    "    windowToImageFilter.Update()\n",
    "     \n",
    "    writer = vtk.vtkPNGWriter()\n",
    "    writer.SetWriteToMemory(1)\n",
    "    writer.SetInputConnection(windowToImageFilter.GetOutputPort())\n",
    "    writer.Write()\n",
    "    data = bytes(memoryview(writer.GetResult()))\n",
    "    \n",
    "    return Image(data)"
   ]
  },
  {
   "cell_type": "code",
   "execution_count": 12,
   "id": "4d75bd8a",
   "metadata": {},
   "outputs": [
    {
     "data": {
      "image/png": "[encoded data removed]",
      "text/plain": [
       "<IPython.core.display.Image object>"
      ]
     },
     "execution_count": 12,
     "metadata": {},
     "output_type": "execute_result"
    }
   ],
   "source": [
    "cube = vtk.vtkCubeSource()\n",
    "cubeMapper = vtk.vtkPolyDataMapper()\n",
    "cubeMapper.SetInputConnection(cube.GetOutputPort())\n",
    "cubeActor = vtk.vtkActor()\n",
    "cubeActor.SetMapper(cubeMapper)\n",
    "cubeActor.GetProperty().SetColor(1, 0, 0)\n",
    "\n",
    "\n",
    "renderer = vtk.vtkRenderer()\n",
    "renderer.SetBackground(0.5, 0.5, 0.5)\n",
    "renderer.AddActor(cubeActor)\n",
    "\n",
    "vtk_show(renderer, width=400, height=300)\n",
    "\n",
    "# renderWindow = vtk.vtkRenderWindow()\n",
    "# renderWindow.SetSize(500, 500)\n",
    "# renderWindow.AddRenderer(renderer)\n",
    "# renderWindow.Render()\n",
    "\n",
    "# iren = vtk.vtkRenderWindowInteractor()\n",
    "# iren.SetRenderWindow(renderWindow)"
   ]
  },
  {
   "cell_type": "code",
   "execution_count": null,
   "id": "1abdd8a0",
   "metadata": {},
   "outputs": [],
   "source": []
  }
 ],
 "metadata": {
  "kernelspec": {
   "display_name": "Python 3 (ipykernel)",
   "language": "python",
   "name": "python3"
  },
  "language_info": {
   "codemirror_mode": {
    "name": "ipython",
    "version": 3
   },
   "file_extension": ".py",
   "mimetype": "text/x-python",
   "name": "python",
   "nbconvert_exporter": "python",
   "pygments_lexer": "ipython3",
   "version": "3.9.13"
  }
 },
 "nbformat": 4,
 "nbformat_minor": 5
}
